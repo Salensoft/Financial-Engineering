{
 "cells": [
  {
   "cell_type": "markdown",
   "metadata": {},
   "source": [
    "# What is Alarm and Timer?\n",
    "\n",
    "The alarm and timer workds exacly the same as the clock application on your mobile phone. It has two functions:\n",
    "1. a user can request to set a alarm to get notification at a future time point.\n",
    "    \n",
    "    E.g. a user can set a alarm at 8.00am on next working day. \n",
    "\n",
    "\n",
    "2. a user can request to set a alarm to get notification when a certain time period has elapsed.\n",
    "    \n",
    "    E.g a user can set a alarm in 15 minutes.\n",
    "\n",
    "The alarm is required to support requests from different users.\n",
    "\n",
    "# Subscribe/publish pattern\n",
    "A subscribe/publish pattern is required for the alarm implementation. A user subscribes the alarm/timers notification, and the alarm publishes the notification when the subscribed time event is triggered.\n",
    "\n",
    "## Subscribe interface\n",
    "The clock class has two public interfaces SubscribeAlarm and SubscribeTimer for users to subscribe alarm and timer notification. And the functions SubscribeAlarm and SubscribeTimer should be non-blocked and return as soon as the subscriptions are made.\n",
    "\n",
    "\n",
    "## Publish interface (callback funciton)\n",
    "When the user subscribed alarm and timer is triggered, the clock will notify users by calling the callback function provided by users. The callback functions take an instance of TimeEvent class as the only one argument and return None.\n"
   ]
  },
  {
   "cell_type": "markdown",
   "metadata": {},
   "source": [
    "# Hint\n",
    "Threading.Timer (https://docs.python.org/3.7/library/threading.html#threading.Timer) may be useful fo the implementation. But it is not compulsory to use it."
   ]
  },
  {
   "cell_type": "markdown",
   "metadata": {},
   "source": [
    "# Solution"
   ]
  },
  {
   "cell_type": "code",
   "execution_count": 1,
   "metadata": {},
   "outputs": [],
   "source": [
    "import datetime\n",
    "from typing import Callable\n",
    "\n",
    "class TimeEvent:\n",
    "    \"\"\"\n",
    "    Define callback event to be passed by callback function\n",
    "    \"\"\"\n",
    "    def __init__(self, clockType: str, triggeredDatetime: datetime.datetime):\n",
    "        \"\"\"\"\"\"\n",
    "        self.clockType = clockType\n",
    "        self.triggeredDatetime = triggeredDatetime\n",
    "\n",
    "        \n",
    "# Defines callback function to be used in the clock.\n",
    "HandlerType = Callable[[TimeEvent], None]\n",
    "        \n",
    "\n",
    "class Clock:\n",
    "    \n",
    "    def __init__(self):\n",
    "        \"\"\"\"\"\"\n",
    "        pass\n",
    "    \n",
    "    def SubscribeAlarm(self, atDatetime: datetime.datetime, callback: HandlerType):\n",
    "        \"\"\"\n",
    "        Set an alarm at a future time. Function callback will be called when the alarm is triggered.\n",
    "        \"\"\"\n",
    "        pass\n",
    "    \n",
    "    def SubscribeTimer(self, afterTimedelta: datetime.timedelta, callback: HandlerType):\n",
    "        \"\"\"\n",
    "        Set an alarm after a certain period of time. Function callback will be called when the timer is triggered.\n",
    "        \"\"\"\n",
    "        pass"
   ]
  },
  {
   "cell_type": "markdown",
   "metadata": {},
   "source": [
    "# Sample Usage"
   ]
  },
  {
   "cell_type": "code",
   "execution_count": 2,
   "metadata": {},
   "outputs": [],
   "source": [
    "# define callback function\n",
    "def ProcessClockEvent(e: TimeEvent):\n",
    "    print(f'Clock triggered: {e.clockType}, {e.triggeredDatetime}')\n",
    "\n",
    "# create clock\n",
    "myClock = Clock()\n",
    "\n",
    "# set alarm\n",
    "atDatetime = datetime.datetime.now() + datetime.timedelta(seconds=10)\n",
    "myClock.SubscribeAlarm(atDatetime, ProcessClockEvent)\n",
    "\n",
    "# set timer\n",
    "afterTimedelta = datetime.timedelta(seconds=10)\n",
    "myClock.SubscribeTimer(afterTimedelta, ProcessClockEvent)\n",
    "\n",
    "# wait for alarm and timer to be triggered and ProcessClockEvent to be called by myClock"
   ]
  },
  {
   "cell_type": "code",
   "execution_count": null,
   "metadata": {},
   "outputs": [],
   "source": []
  }
 ],
 "metadata": {
  "kernelspec": {
   "display_name": "Python 3",
   "language": "python",
   "name": "python3"
  },
  "language_info": {
   "codemirror_mode": {
    "name": "ipython",
    "version": 3
   },
   "file_extension": ".py",
   "mimetype": "text/x-python",
   "name": "python",
   "nbconvert_exporter": "python",
   "pygments_lexer": "ipython3",
   "version": "3.7.0"
  }
 },
 "nbformat": 4,
 "nbformat_minor": 2
}
